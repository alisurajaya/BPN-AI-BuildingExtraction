{
 "cells": [
  {
   "cell_type": "markdown",
   "metadata": {
    "id": "1KJnP7zSGQg5"
   },
   "source": [
    "## Ekstraksi Tapak Bangunan Menggunakan model Modified Vision Transformer (M-VT)"
   ]
  },
  {
   "cell_type": "markdown",
   "metadata": {},
   "source": [
    "Prosedur ektraksi tapak bangunan menggunakan model M-VT ini disiapkan oleh Tim Peneliti BPN-AI dari Departemen Teknik Geodesi, Universitas Gadjah Mada (UGM).\n",
    "\n",
    "Terdapat beberapa file yang perlu diunduh terlebih dahulu untuk dapat menjalankan algoritma ekstraksi bangunan ini.\n",
    "\n",
    "File yang diperlukan dapat diunduh pada: URL"
   ]
  },
  {
   "cell_type": "code",
   "execution_count": 1,
   "metadata": {
    "colab": {
     "base_uri": "https://localhost:8080/"
    },
    "id": "cFxHJWmXlcZk",
    "outputId": "b755d1a8-3650-42d9-8718-401b4458f049"
   },
   "outputs": [
    {
     "name": "stdout",
     "output_type": "stream",
     "text": [
      "1.12.1\n",
      "0.13.1\n",
      "cuda\n"
     ]
    }
   ],
   "source": [
    "import os\n",
    "import glob\n",
    "import matplotlib.pyplot as plt\n",
    "\n",
    "import torch\n",
    "import torchvision\n",
    "from tqdm import tqdm\n",
    "\n",
    "from imutils import paths\n",
    "\n",
    "print(torch.__version__)\n",
    "print(torchvision.__version__)\n",
    "\n",
    "DEVICE = \"cuda\" if torch.cuda.is_available() else \"cpu\"\n",
    "print(DEVICE)\n",
    "\n",
    "# determine if we will be pinning memory during data loading\n",
    "PIN_MEMORY = True if DEVICE == \"cuda\" else False"
   ]
  },
  {
   "cell_type": "markdown",
   "metadata": {
    "id": "KVfaGZrWG63Q"
   },
   "source": [
    "### Configure Paths and Directories"
   ]
  },
  {
   "cell_type": "markdown",
   "metadata": {},
   "source": [
    "Pada tahap ini perlu dilakukan konfigurasi direktori untuk mengakses file orthophoto yang akan diekstraksi. Silahkan simpan file othophoto (.tif) di dalam folder: dataset/img_full"
   ]
  },
  {
   "cell_type": "code",
   "execution_count": 2,
   "metadata": {
    "colab": {
     "base_uri": "https://localhost:8080/",
     "height": 235
    },
    "id": "OjlBC-raVM2K",
    "outputId": "b6950142-9c43-40bd-9edb-e10b3973f745"
   },
   "outputs": [
    {
     "name": "stdout",
     "output_type": "stream",
     "text": [
      "/data/private/BPN_AI/mvt-ekstraksi-bangunan\n",
      "/data/private/BPN_AI/mvt-ekstraksi-bangunan/trained_models/mvt-bpn-a.pth\n",
      "/data/private/BPN_AI/mvt-ekstraksi-bangunan/dataset/img_full/img_sample.tif\n",
      "/data/private/BPN_AI/mvt-ekstraksi-bangunan/regularizations/\n",
      "hasil_tapak_bangunan.tif\n"
     ]
    }
   ],
   "source": [
    "GD_PATH = os.getcwd() # get current working directory for the repo\n",
    "print(GD_PATH)\n",
    "\n",
    "# Trained model name\n",
    "model_name = \"mvt-bpn-a.pth\"\n",
    "# Trained model path\n",
    "MODEL_PATH = os.path.join(GD_PATH, \"trained_models\", model_name)\n",
    "print(MODEL_PATH)\n",
    "\n",
    "# Direktori file input foto udara\n",
    "FULL_IMG_DIR = os.path.join(GD_PATH, \"dataset\", \"img_full\")\n",
    "full_img_dir = os.path.join(FULL_IMG_DIR, \"img_sample.tif\") #ganti sesuai nama file orthophoto \n",
    "print(full_img_dir)\n",
    "\n",
    "# Direktori file input foto udara setelah dilakukan tiling\n",
    "FULL_IMG_TILES_DIR = os.path.join(GD_PATH, \"dataset\", \"img_tiles\") + \"/\"\n",
    "\n",
    "# Direktori file output prediksi segmentasi building footprint\n",
    "PREDICTIONS_FULL_DIR = os.path.join(GD_PATH, \"predictions\") + \"/\" # Lokasi penyimpanan file hasil prediksi model utk segmentasi building footprint\n",
    "\n",
    "# Direktori file output hasil regularisasi\n",
    "REGULARIZATION_DIR = os.path.join(GD_PATH, \"regularizations\") + \"/\"\n",
    "print(REGULARIZATION_DIR)\n",
    "\n",
    "#Tentukan nama file hasil akhir segmentasi building footprint\n",
    "full_pred_dir = \"hasil_tapak_bangunan.tif\" \n",
    "print(full_pred_dir)"
   ]
  },
  {
   "cell_type": "markdown",
   "metadata": {
    "id": "AKXL9bO8WnNg"
   },
   "source": [
    "### Build Model Architecture"
   ]
  },
  {
   "cell_type": "code",
   "execution_count": 3,
   "metadata": {
    "id": "9urE3W1iWp7v"
   },
   "outputs": [],
   "source": [
    "import sys\n",
    "subfolder = os.path.join(GD_PATH, \"models\")\n",
    "sys.path.insert(0, subfolder)\n",
    "\n",
    "import DCSwin_model"
   ]
  },
  {
   "cell_type": "code",
   "execution_count": 4,
   "metadata": {
    "colab": {
     "base_uri": "https://localhost:8080/"
    },
    "id": "qYh4flMu7O-m",
    "outputId": "94909220-5b1f-43ad-b52f-d37bbaa270fd"
   },
   "outputs": [
    {
     "name": "stdout",
     "output_type": "stream",
     "text": [
      "/data/private/BPN_AI/mvt-ekstraksi-bangunan/trained_models/mvt-bpn-a.pth\n",
      "model loaded for prediction\n"
     ]
    }
   ],
   "source": [
    "# Load saved model for prediction\n",
    "\n",
    "print(MODEL_PATH)\n",
    "\n",
    "model = torch.load(MODEL_PATH) # add MODEL_PATH after training\n",
    "print(\"model loaded for prediction\")\n",
    "\n",
    "#model"
   ]
  },
  {
   "cell_type": "code",
   "execution_count": 5,
   "metadata": {},
   "outputs": [],
   "source": [
    "torch.cuda.empty_cache()"
   ]
  },
  {
   "cell_type": "markdown",
   "metadata": {
    "tags": []
   },
   "source": [
    "### Tilling"
   ]
  },
  {
   "cell_type": "code",
   "execution_count": 6,
   "metadata": {},
   "outputs": [],
   "source": [
    "import cv2\n",
    "import numpy as np\n",
    "import patchify as p\n",
    "\n",
    "def patchData(img, patch_dim:int, step_size:float):\n",
    "    # pembulatan channel img\n",
    "    ch1 = np.ceil(img.shape[0]/patch_dim).astype(int)\n",
    "    ch2 = np.ceil(img.shape[1]/patch_dim).astype(int)\n",
    "\n",
    "    # menambahkan kolom dan baris kosong pd gambar\n",
    "    arr0 = np.zeros((ch1*patch_dim, ch2*patch_dim, 3))\n",
    "    arr0[:img.shape[0], :img.shape[1]] += img\n",
    "    arr = arr0.astype(np.uint8)\n",
    "\n",
    "    # patch image\n",
    "    patch_shape = (patch_dim, patch_dim, 3)\n",
    "    patches = p.patchify(arr, patch_shape, step=int(patch_dim*step_size))\n",
    "\n",
    "    img_patches = []\n",
    "    for i in range(patches.shape[0]):\n",
    "        for j in range(patches.shape[1]):\n",
    "            img_patches.append(patches[i,j,0,:,:,:])\n",
    "\n",
    "    return np.array(img_patches)"
   ]
  },
  {
   "cell_type": "code",
   "execution_count": 7,
   "metadata": {},
   "outputs": [
    {
     "name": "stdout",
     "output_type": "stream",
     "text": [
      "size ori : (3772, 5349, 3)\n",
      "patch size : (88, 512, 512, 3)\n",
      "88\n"
     ]
    }
   ],
   "source": [
    "patch_size = 512 # ukuran patch/tile, dapat diubah/disesuaikan\n",
    "\n",
    "img = cv2.imread(full_img_dir)\n",
    "\n",
    "print(f'size ori : {img.shape}')\n",
    "\n",
    "patch = patchData(img, patch_size, 1)\n",
    "print(f'patch size : {patch.shape}')\n",
    "print(patch.shape[0])\n",
    "\n",
    "for i in range(patch.shape[0]):\n",
    "    cv2.imwrite(FULL_IMG_TILES_DIR + f'/img_{i+1000}.png', patch[i])"
   ]
  },
  {
   "cell_type": "markdown",
   "metadata": {
    "tags": []
   },
   "source": [
    "### Predicting full images"
   ]
  },
  {
   "cell_type": "code",
   "execution_count": 8,
   "metadata": {},
   "outputs": [
    {
     "name": "stdout",
     "output_type": "stream",
     "text": [
      "Prediction saved to: /data/private/BPN_AI/mvt-ekstraksi-bangunan/predictions/\n"
     ]
    }
   ],
   "source": [
    "import random\n",
    "import gc\n",
    "from pathlib import Path\n",
    "import numpy as np\n",
    "from PIL import Image\n",
    "import imagesize\n",
    "import cv2\n",
    "\n",
    "# PLOTTING PREDICTIONS AS SINGLE IMAGES\n",
    "\n",
    "# Output folder for the predictions\n",
    "output_folder_full = PREDICTIONS_FULL_DIR  # check for Windows to save predictions inside the folder\n",
    "\n",
    "# Short and convert to list\n",
    "full_images = sorted(list(paths.list_images(FULL_IMG_TILES_DIR)))\n",
    "\n",
    "# Prediction Threshold\n",
    "THRESHOLD = 0.5\n",
    "\n",
    "# PLOT TEST IMAGES as RGB\n",
    "for n in range(len(full_images)):\n",
    "  gc.collect()\n",
    "  # Test image number\n",
    "  testImgName = str(Path(full_images[n]).stem) + '.tif'\n",
    "  #IMG_WIDTH, IMG_HEIGHT = imagesize.get(testImgName)\n",
    "    #print('#', testImgName)\n",
    "\n",
    "   # Make predicton on a test image specified with counter n\n",
    "  test_img = full_images[n]\n",
    "  test_img_input = np.expand_dims(test_img, 0)\n",
    "  #print('#', test_img_input[0])\n",
    "\n",
    "  # PyTorch --> works\n",
    "  model.eval()\n",
    "  with torch.no_grad():\n",
    "    image = cv2.imread(test_img_input[0])\n",
    "    image = cv2.resize(image, dsize = (patch_size, patch_size), interpolation=cv2.INTER_CUBIC)\n",
    "    image = cv2.cvtColor(image, cv2.COLOR_BGR2RGB)\n",
    "    image = image.astype(\"float32\") / 255\n",
    "    \n",
    "    # print('SIZE: ', image.shape)\n",
    "\n",
    "    # make the channel axis to be the leading one, add batch dimension\n",
    "    image = np.transpose(image, (2, 0, 1))\n",
    "    # create a PyTorch tensor\n",
    "    image = np.expand_dims(image, 0)\n",
    "    # flash the tensor to the device\n",
    "    image  = torch.from_numpy(image).to(DEVICE)\n",
    "\n",
    "    # make the prediction\n",
    "    predMask = model(image).squeeze()\n",
    "    # pass result through sigmoid\n",
    "    predMask = torch.sigmoid(predMask)\n",
    "\n",
    "    # convert result to numpy array\n",
    "    predMask = predMask.cpu().numpy()\n",
    "\n",
    "    # filter out the weak predictions and convert them to integers\n",
    "    predMask = (predMask > THRESHOLD) * 255\n",
    "    predMask = predMask.astype(np.uint8)\n",
    "\n",
    "    # generate image from array\n",
    "    pIMG = Image.fromarray(predMask)\n",
    "    pIMG.save(str(output_folder_full + testImgName))\n",
    "\n",
    "    #print('Prediction:', testImgName, 'saved to:', output_folder_full)\n",
    "\n",
    "print(\"Prediction saved to:\", output_folder_full)"
   ]
  },
  {
   "cell_type": "code",
   "execution_count": 9,
   "metadata": {},
   "outputs": [],
   "source": [
    "output_folder = PREDICTIONS_FULL_DIR + \"/\" + \"*.tif\"\n",
    "\n",
    "predictions = glob.glob(output_folder)\n",
    "predictions.sort()"
   ]
  },
  {
   "cell_type": "markdown",
   "metadata": {
    "tags": []
   },
   "source": [
    "### BUILDING FOOTPRINT REGULARIZATION"
   ]
  },
  {
   "cell_type": "code",
   "execution_count": 10,
   "metadata": {},
   "outputs": [
    {
     "name": "stdout",
     "output_type": "stream",
     "text": [
      "/data/private/BPN_AI/mvt-ekstraksi-bangunan/projectRegularization\n",
      "/data/private/BPN_AI/mvt-ekstraksi-bangunan/projectRegularization/pretrained_weights\n",
      "/data/private/BPN_AI/mvt-ekstraksi-bangunan/projectRegularization/pretrained_weights/E140000_e1\n",
      "/data/private/BPN_AI/mvt-ekstraksi-bangunan/projectRegularization/pretrained_weights/E140000_net\n"
     ]
    }
   ],
   "source": [
    "# DEFINE NECESSARY PATHS FOR REGULARIZATION PART\n",
    "\n",
    "projectRegDir = os.path.join(GD_PATH, \"projectRegularization\")\n",
    "print(projectRegDir)\n",
    "\n",
    "ptw = os.path.join(projectRegDir, \"pretrained_weights\") \n",
    "print(ptw)\n",
    "\n",
    "# GET THE PATHS FOR TRAINED GAN MODELS\n",
    "ENCODER = os.path.join(ptw, \"E140000_e1\")\n",
    "GENERATOR = os.path.join(ptw, \"E140000_net\")\n",
    "\n",
    "print(ENCODER)\n",
    "print(GENERATOR)"
   ]
  },
  {
   "cell_type": "code",
   "execution_count": 11,
   "metadata": {},
   "outputs": [
    {
     "name": "stdout",
     "output_type": "stream",
     "text": [
      "variables.py created with users paths...\n"
     ]
    }
   ],
   "source": [
    "# CREATE A NEW variables.py WITH USERS PATHS\n",
    "\n",
    "folder_path = projectRegDir\n",
    "file_name = 'variables.py'\n",
    "file_path = os.path.join(folder_path, file_name)\n",
    "\n",
    "with open(file_path, 'w') as f:\n",
    "    f.write('# CONFIGURE THE PATHS HERE: \\n\\n')\n",
    "    # f.write('# TRAINING \\n')\n",
    "    # f.write('DATASET_RGB = ' + '\"' + str(TRAIN_IMG_DIR + '*.tif' + '\"') + '\\n')\n",
    "    # f.write('DATASET_GTI = ' + '\"' + str(TRAIN_MASK_DIR + '*.tif' + '\"') + '\\n')\n",
    "    # f.write('DATASET_SEG = ' + '\"' + str(PREDICTIONS_DIR + '*.tif' + '\"') + '\\n')\n",
    "    f.write('\\n')\n",
    "    f.write('DEBUG_DIR = ' + '\"' + str('./debug/') + '\"' + '\\n')\n",
    "    f.write('\\n')\n",
    "    f.write('# INFERENCE \\n')\n",
    "    f.write('INF_RGB = ' + '\"' + str(FULL_IMG_TILES_DIR + '*.png' + '\"') + '\\n')\n",
    "    f.write('INF_SEG = ' + '\"' + str(PREDICTIONS_FULL_DIR + '*.tif' + '\"') + '\\n')\n",
    "    f.write('INF_OUT = ' + '\"' + str(REGULARIZATION_DIR + '\"') + '\\n')\n",
    "    f.write('\\n')\n",
    "    f.write('MODEL_ENCODER = ' + '\"' + str(ENCODER) + '\"' + '\\n')\n",
    "    f.write('MODEL_GENERATOR = ' + '\"' + str(GENERATOR) + '\"' + '\\n')\n",
    "    f.close()\n",
    " \n",
    "print(\"variables.py created with users paths...\")\n"
   ]
  },
  {
   "cell_type": "markdown",
   "metadata": {},
   "source": [
    "#### Run projectRegularization\n",
    "\n",
    "Perlu penyesuaian pada command di bawah dengan mengubah absolute path dari file regularize.py"
   ]
  },
  {
   "cell_type": "code",
   "execution_count": 12,
   "metadata": {},
   "outputs": [
    {
     "name": "stdout",
     "output_type": "stream",
     "text": [
      "/data/private/BPN_AI/mvt-ekstraksi-bangunan/dataset/img_tiles/img_1000.png /data/private/BPN_AI/mvt-ekstraksi-bangunan/predictions/img_1000.tif\n",
      "Regularization: 100%|█████████████████████████████| 2/2 [00:05<00:00,  2.59s/it]\n",
      "/data/private/BPN_AI/mvt-ekstraksi-bangunan/dataset/img_tiles/img_1001.png /data/private/BPN_AI/mvt-ekstraksi-bangunan/predictions/img_1001.tif\n",
      "Regularization: 100%|█████████████████████████████| 8/8 [00:01<00:00,  7.61it/s]\n",
      "/data/private/BPN_AI/mvt-ekstraksi-bangunan/dataset/img_tiles/img_1002.png /data/private/BPN_AI/mvt-ekstraksi-bangunan/predictions/img_1002.tif\n",
      "Regularization: 100%|███████████████████████████| 11/11 [00:01<00:00,  7.83it/s]\n",
      "/data/private/BPN_AI/mvt-ekstraksi-bangunan/dataset/img_tiles/img_1003.png /data/private/BPN_AI/mvt-ekstraksi-bangunan/predictions/img_1003.tif\n",
      "Regularization: 100%|█████████████████████████████| 7/7 [00:01<00:00,  3.61it/s]\n",
      "/data/private/BPN_AI/mvt-ekstraksi-bangunan/dataset/img_tiles/img_1004.png /data/private/BPN_AI/mvt-ekstraksi-bangunan/predictions/img_1004.tif\n",
      "Regularization: 100%|█████████████████████████████| 5/5 [00:01<00:00,  3.69it/s]\n",
      "/data/private/BPN_AI/mvt-ekstraksi-bangunan/dataset/img_tiles/img_1005.png /data/private/BPN_AI/mvt-ekstraksi-bangunan/predictions/img_1005.tif\n",
      "Regularization: 100%|█████████████████████████████| 3/3 [00:01<00:00,  1.55it/s]\n",
      "/data/private/BPN_AI/mvt-ekstraksi-bangunan/dataset/img_tiles/img_1006.png /data/private/BPN_AI/mvt-ekstraksi-bangunan/predictions/img_1006.tif\n",
      "Regularization: 100%|█████████████████████████████| 4/4 [00:01<00:00,  3.80it/s]\n",
      "/data/private/BPN_AI/mvt-ekstraksi-bangunan/dataset/img_tiles/img_1007.png /data/private/BPN_AI/mvt-ekstraksi-bangunan/predictions/img_1007.tif\n",
      "Regularization: 100%|█████████████████████████████| 9/9 [00:01<00:00,  7.34it/s]\n",
      "/data/private/BPN_AI/mvt-ekstraksi-bangunan/dataset/img_tiles/img_1008.png /data/private/BPN_AI/mvt-ekstraksi-bangunan/predictions/img_1008.tif\n",
      "Regularization: 100%|█████████████████████████████| 2/2 [00:00<00:00,  7.58it/s]\n",
      "/data/private/BPN_AI/mvt-ekstraksi-bangunan/projectRegularization/regularize.py:260: UserWarning: /data/private/BPN_AI/mvt-ekstraksi-bangunan/regularizations/img_1008.tif is a low contrast image\n",
      "  io.imsave(output_file, np.uint8(R*255))\n",
      "/data/private/BPN_AI/mvt-ekstraksi-bangunan/dataset/img_tiles/img_1009.png /data/private/BPN_AI/mvt-ekstraksi-bangunan/predictions/img_1009.tif\n",
      "Regularization: 100%|█████████████████████████████| 2/2 [00:00<00:00,  7.61it/s]\n",
      "/data/private/BPN_AI/mvt-ekstraksi-bangunan/projectRegularization/regularize.py:260: UserWarning: /data/private/BPN_AI/mvt-ekstraksi-bangunan/regularizations/img_1009.tif is a low contrast image\n",
      "  io.imsave(output_file, np.uint8(R*255))\n",
      "/data/private/BPN_AI/mvt-ekstraksi-bangunan/dataset/img_tiles/img_1010.png /data/private/BPN_AI/mvt-ekstraksi-bangunan/predictions/img_1010.tif\n",
      "Regularization: 100%|█████████████████████████████| 1/1 [00:00<00:00,  6.84it/s]\n",
      "/data/private/BPN_AI/mvt-ekstraksi-bangunan/dataset/img_tiles/img_1011.png /data/private/BPN_AI/mvt-ekstraksi-bangunan/predictions/img_1011.tif\n",
      "Regularization: 100%|███████████████████████████| 11/11 [00:01<00:00,  9.10it/s]\n",
      "/data/private/BPN_AI/mvt-ekstraksi-bangunan/dataset/img_tiles/img_1012.png /data/private/BPN_AI/mvt-ekstraksi-bangunan/predictions/img_1012.tif\n",
      "Regularization: 100%|███████████████████████████| 10/10 [00:00<00:00, 10.01it/s]\n",
      "/data/private/BPN_AI/mvt-ekstraksi-bangunan/dataset/img_tiles/img_1013.png /data/private/BPN_AI/mvt-ekstraksi-bangunan/predictions/img_1013.tif\n",
      "Regularization: 100%|███████████████████████████| 15/15 [00:01<00:00,  7.97it/s]\n",
      "/data/private/BPN_AI/mvt-ekstraksi-bangunan/dataset/img_tiles/img_1014.png /data/private/BPN_AI/mvt-ekstraksi-bangunan/predictions/img_1014.tif\n",
      "Regularization: 100%|███████████████████████████| 10/10 [00:01<00:00,  7.61it/s]\n",
      "/data/private/BPN_AI/mvt-ekstraksi-bangunan/dataset/img_tiles/img_1015.png /data/private/BPN_AI/mvt-ekstraksi-bangunan/predictions/img_1015.tif\n",
      "Regularization: 100%|███████████████████████████| 10/10 [00:01<00:00,  5.71it/s]\n",
      "/data/private/BPN_AI/mvt-ekstraksi-bangunan/dataset/img_tiles/img_1016.png /data/private/BPN_AI/mvt-ekstraksi-bangunan/predictions/img_1016.tif\n",
      "Regularization: 100%|███████████████████████████| 19/19 [00:02<00:00,  6.88it/s]\n",
      "/data/private/BPN_AI/mvt-ekstraksi-bangunan/dataset/img_tiles/img_1017.png /data/private/BPN_AI/mvt-ekstraksi-bangunan/predictions/img_1017.tif\n",
      "Regularization: 100%|█████████████████████████████| 7/7 [00:01<00:00,  5.02it/s]\n",
      "/data/private/BPN_AI/mvt-ekstraksi-bangunan/dataset/img_tiles/img_1018.png /data/private/BPN_AI/mvt-ekstraksi-bangunan/predictions/img_1018.tif\n",
      "Regularization: 100%|███████████████████████████| 10/10 [00:01<00:00,  5.94it/s]\n",
      "/data/private/BPN_AI/mvt-ekstraksi-bangunan/dataset/img_tiles/img_1019.png /data/private/BPN_AI/mvt-ekstraksi-bangunan/predictions/img_1019.tif\n",
      "Regularization: 100%|█████████████████████████████| 5/5 [00:00<00:00,  6.48it/s]\n",
      "/data/private/BPN_AI/mvt-ekstraksi-bangunan/dataset/img_tiles/img_1020.png /data/private/BPN_AI/mvt-ekstraksi-bangunan/predictions/img_1020.tif\n",
      "Regularization: 100%|█████████████████████████████| 6/6 [00:01<00:00,  5.56it/s]\n",
      "/data/private/BPN_AI/mvt-ekstraksi-bangunan/dataset/img_tiles/img_1021.png /data/private/BPN_AI/mvt-ekstraksi-bangunan/predictions/img_1021.tif\n",
      "Regularization: 100%|███████████████████████████| 10/10 [00:01<00:00,  9.14it/s]\n",
      "/data/private/BPN_AI/mvt-ekstraksi-bangunan/dataset/img_tiles/img_1022.png /data/private/BPN_AI/mvt-ekstraksi-bangunan/predictions/img_1022.tif\n",
      "Regularization: 100%|█████████████████████████████| 6/6 [00:00<00:00,  7.51it/s]\n",
      "/data/private/BPN_AI/mvt-ekstraksi-bangunan/dataset/img_tiles/img_1023.png /data/private/BPN_AI/mvt-ekstraksi-bangunan/predictions/img_1023.tif\n",
      "Regularization: 100%|█████████████████████████████| 3/3 [00:00<00:00,  6.60it/s]\n",
      "/data/private/BPN_AI/mvt-ekstraksi-bangunan/dataset/img_tiles/img_1024.png /data/private/BPN_AI/mvt-ekstraksi-bangunan/predictions/img_1024.tif\n",
      "Regularization: 100%|█████████████████████████████| 6/6 [00:01<00:00,  5.45it/s]\n",
      "/data/private/BPN_AI/mvt-ekstraksi-bangunan/dataset/img_tiles/img_1025.png /data/private/BPN_AI/mvt-ekstraksi-bangunan/predictions/img_1025.tif\n",
      "Regularization: 100%|█████████████████████████████| 7/7 [00:01<00:00,  4.47it/s]\n",
      "/data/private/BPN_AI/mvt-ekstraksi-bangunan/dataset/img_tiles/img_1026.png /data/private/BPN_AI/mvt-ekstraksi-bangunan/predictions/img_1026.tif\n",
      "Regularization: 100%|█████████████████████████████| 4/4 [00:01<00:00,  3.08it/s]\n",
      "/data/private/BPN_AI/mvt-ekstraksi-bangunan/dataset/img_tiles/img_1027.png /data/private/BPN_AI/mvt-ekstraksi-bangunan/predictions/img_1027.tif\n",
      "Regularization: 100%|█████████████████████████████| 6/6 [00:01<00:00,  3.98it/s]\n",
      "/data/private/BPN_AI/mvt-ekstraksi-bangunan/dataset/img_tiles/img_1028.png /data/private/BPN_AI/mvt-ekstraksi-bangunan/predictions/img_1028.tif\n",
      "Regularization: 100%|█████████████████████████████| 4/4 [00:00<00:00,  4.47it/s]\n",
      "/data/private/BPN_AI/mvt-ekstraksi-bangunan/dataset/img_tiles/img_1029.png /data/private/BPN_AI/mvt-ekstraksi-bangunan/predictions/img_1029.tif\n",
      "Regularization: 100%|█████████████████████████████| 4/4 [00:01<00:00,  3.57it/s]\n",
      "/data/private/BPN_AI/mvt-ekstraksi-bangunan/dataset/img_tiles/img_1030.png /data/private/BPN_AI/mvt-ekstraksi-bangunan/predictions/img_1030.tif\n",
      "Regularization: 100%|█████████████████████████████| 4/4 [00:01<00:00,  3.55it/s]\n",
      "/data/private/BPN_AI/mvt-ekstraksi-bangunan/dataset/img_tiles/img_1031.png /data/private/BPN_AI/mvt-ekstraksi-bangunan/predictions/img_1031.tif\n",
      "Regularization: 100%|█████████████████████████████| 9/9 [00:01<00:00,  5.19it/s]\n",
      "/data/private/BPN_AI/mvt-ekstraksi-bangunan/dataset/img_tiles/img_1032.png /data/private/BPN_AI/mvt-ekstraksi-bangunan/predictions/img_1032.tif\n",
      "Regularization: 100%|█████████████████████████████| 4/4 [00:00<00:00,  7.55it/s]\n",
      "/data/private/BPN_AI/mvt-ekstraksi-bangunan/dataset/img_tiles/img_1033.png /data/private/BPN_AI/mvt-ekstraksi-bangunan/predictions/img_1033.tif\n",
      "Regularization: 100%|█████████████████████████████| 3/3 [00:01<00:00,  2.86it/s]\n",
      "/data/private/BPN_AI/mvt-ekstraksi-bangunan/dataset/img_tiles/img_1034.png /data/private/BPN_AI/mvt-ekstraksi-bangunan/predictions/img_1034.tif\n",
      "Regularization: 100%|███████████████████████████| 12/12 [00:01<00:00,  8.39it/s]\n",
      "/data/private/BPN_AI/mvt-ekstraksi-bangunan/dataset/img_tiles/img_1035.png /data/private/BPN_AI/mvt-ekstraksi-bangunan/predictions/img_1035.tif\n",
      "Regularization: 100%|███████████████████████████| 22/22 [00:02<00:00,  8.73it/s]\n",
      "/data/private/BPN_AI/mvt-ekstraksi-bangunan/dataset/img_tiles/img_1036.png /data/private/BPN_AI/mvt-ekstraksi-bangunan/predictions/img_1036.tif\n",
      "Regularization: 100%|█████████████████████████████| 6/6 [00:01<00:00,  4.32it/s]\n",
      "/data/private/BPN_AI/mvt-ekstraksi-bangunan/dataset/img_tiles/img_1037.png /data/private/BPN_AI/mvt-ekstraksi-bangunan/predictions/img_1037.tif\n",
      "Regularization: 100%|███████████████████████████| 16/16 [00:02<00:00,  7.25it/s]\n",
      "/data/private/BPN_AI/mvt-ekstraksi-bangunan/dataset/img_tiles/img_1038.png /data/private/BPN_AI/mvt-ekstraksi-bangunan/predictions/img_1038.tif\n",
      "Regularization: 100%|█████████████████████████████| 9/9 [00:01<00:00,  5.08it/s]\n",
      "/data/private/BPN_AI/mvt-ekstraksi-bangunan/dataset/img_tiles/img_1039.png /data/private/BPN_AI/mvt-ekstraksi-bangunan/predictions/img_1039.tif\n",
      "Regularization: 100%|█████████████████████████████| 2/2 [00:00<00:00,  3.38it/s]\n",
      "/data/private/BPN_AI/mvt-ekstraksi-bangunan/dataset/img_tiles/img_1040.png /data/private/BPN_AI/mvt-ekstraksi-bangunan/predictions/img_1040.tif\n",
      "Regularization: 100%|█████████████████████████████| 4/4 [00:01<00:00,  3.75it/s]\n",
      "/data/private/BPN_AI/mvt-ekstraksi-bangunan/dataset/img_tiles/img_1041.png /data/private/BPN_AI/mvt-ekstraksi-bangunan/predictions/img_1041.tif\n",
      "Regularization: 100%|█████████████████████████████| 6/6 [00:01<00:00,  5.44it/s]\n",
      "/data/private/BPN_AI/mvt-ekstraksi-bangunan/dataset/img_tiles/img_1042.png /data/private/BPN_AI/mvt-ekstraksi-bangunan/predictions/img_1042.tif\n",
      "Regularization: 100%|█████████████████████████████| 5/5 [00:01<00:00,  4.03it/s]\n",
      "/data/private/BPN_AI/mvt-ekstraksi-bangunan/dataset/img_tiles/img_1043.png /data/private/BPN_AI/mvt-ekstraksi-bangunan/predictions/img_1043.tif\n",
      "Regularization: 100%|█████████████████████████████| 2/2 [00:00<00:00,  3.47it/s]\n",
      "/data/private/BPN_AI/mvt-ekstraksi-bangunan/dataset/img_tiles/img_1044.png /data/private/BPN_AI/mvt-ekstraksi-bangunan/predictions/img_1044.tif\n",
      "Regularization: 100%|█████████████████████████████| 7/7 [00:01<00:00,  4.19it/s]\n",
      "/data/private/BPN_AI/mvt-ekstraksi-bangunan/dataset/img_tiles/img_1045.png /data/private/BPN_AI/mvt-ekstraksi-bangunan/predictions/img_1045.tif\n",
      "Regularization: 100%|███████████████████████████| 12/12 [00:01<00:00,  8.01it/s]\n",
      "/data/private/BPN_AI/mvt-ekstraksi-bangunan/dataset/img_tiles/img_1046.png /data/private/BPN_AI/mvt-ekstraksi-bangunan/predictions/img_1046.tif\n",
      "Regularization: 100%|███████████████████████████| 15/15 [00:02<00:00,  7.02it/s]\n",
      "/data/private/BPN_AI/mvt-ekstraksi-bangunan/dataset/img_tiles/img_1047.png /data/private/BPN_AI/mvt-ekstraksi-bangunan/predictions/img_1047.tif\n",
      "Regularization: 100%|███████████████████████████| 13/13 [00:01<00:00,  6.52it/s]\n",
      "/data/private/BPN_AI/mvt-ekstraksi-bangunan/dataset/img_tiles/img_1048.png /data/private/BPN_AI/mvt-ekstraksi-bangunan/predictions/img_1048.tif\n",
      "Regularization: 100%|███████████████████████████| 10/10 [00:02<00:00,  4.98it/s]\n",
      "/data/private/BPN_AI/mvt-ekstraksi-bangunan/dataset/img_tiles/img_1049.png /data/private/BPN_AI/mvt-ekstraksi-bangunan/predictions/img_1049.tif\n",
      "Regularization: 100%|█████████████████████████████| 7/7 [00:01<00:00,  4.33it/s]\n",
      "/data/private/BPN_AI/mvt-ekstraksi-bangunan/dataset/img_tiles/img_1050.png /data/private/BPN_AI/mvt-ekstraksi-bangunan/predictions/img_1050.tif\n",
      "Regularization: 100%|███████████████████████████| 10/10 [00:01<00:00,  6.47it/s]\n",
      "/data/private/BPN_AI/mvt-ekstraksi-bangunan/dataset/img_tiles/img_1051.png /data/private/BPN_AI/mvt-ekstraksi-bangunan/predictions/img_1051.tif\n",
      "Regularization: 100%|█████████████████████████████| 5/5 [00:01<00:00,  4.49it/s]\n",
      "/data/private/BPN_AI/mvt-ekstraksi-bangunan/dataset/img_tiles/img_1052.png /data/private/BPN_AI/mvt-ekstraksi-bangunan/predictions/img_1052.tif\n",
      "Regularization: 100%|█████████████████████████████| 5/5 [00:01<00:00,  3.85it/s]\n",
      "/data/private/BPN_AI/mvt-ekstraksi-bangunan/dataset/img_tiles/img_1053.png /data/private/BPN_AI/mvt-ekstraksi-bangunan/predictions/img_1053.tif\n",
      "Regularization: 100%|█████████████████████████████| 5/5 [00:01<00:00,  3.55it/s]\n",
      "/data/private/BPN_AI/mvt-ekstraksi-bangunan/dataset/img_tiles/img_1054.png /data/private/BPN_AI/mvt-ekstraksi-bangunan/predictions/img_1054.tif\n",
      "Regularization: 100%|███████████████████████████| 14/14 [00:01<00:00, 10.44it/s]\n",
      "/data/private/BPN_AI/mvt-ekstraksi-bangunan/projectRegularization/regularize.py:260: UserWarning: /data/private/BPN_AI/mvt-ekstraksi-bangunan/regularizations/img_1054.tif is a low contrast image\n",
      "  io.imsave(output_file, np.uint8(R*255))\n",
      "/data/private/BPN_AI/mvt-ekstraksi-bangunan/dataset/img_tiles/img_1055.png /data/private/BPN_AI/mvt-ekstraksi-bangunan/predictions/img_1055.tif\n",
      "Regularization: 100%|█████████████████████████████| 7/7 [00:01<00:00,  3.87it/s]\n",
      "/data/private/BPN_AI/mvt-ekstraksi-bangunan/dataset/img_tiles/img_1056.png /data/private/BPN_AI/mvt-ekstraksi-bangunan/predictions/img_1056.tif\n",
      "Regularization: 100%|█████████████████████████████| 6/6 [00:01<00:00,  5.38it/s]\n",
      "/data/private/BPN_AI/mvt-ekstraksi-bangunan/dataset/img_tiles/img_1057.png /data/private/BPN_AI/mvt-ekstraksi-bangunan/predictions/img_1057.tif\n",
      "Regularization: 100%|█████████████████████████████| 3/3 [00:01<00:00,  2.96it/s]\n",
      "/data/private/BPN_AI/mvt-ekstraksi-bangunan/dataset/img_tiles/img_1058.png /data/private/BPN_AI/mvt-ekstraksi-bangunan/predictions/img_1058.tif\n",
      "Regularization: 100%|█████████████████████████████| 8/8 [00:01<00:00,  4.80it/s]\n",
      "/data/private/BPN_AI/mvt-ekstraksi-bangunan/dataset/img_tiles/img_1059.png /data/private/BPN_AI/mvt-ekstraksi-bangunan/predictions/img_1059.tif\n",
      "Regularization: 100%|█████████████████████████████| 9/9 [00:01<00:00,  5.21it/s]\n",
      "/data/private/BPN_AI/mvt-ekstraksi-bangunan/dataset/img_tiles/img_1060.png /data/private/BPN_AI/mvt-ekstraksi-bangunan/predictions/img_1060.tif\n",
      "Regularization: 100%|███████████████████████████| 10/10 [00:02<00:00,  4.90it/s]\n",
      "/data/private/BPN_AI/mvt-ekstraksi-bangunan/dataset/img_tiles/img_1061.png /data/private/BPN_AI/mvt-ekstraksi-bangunan/predictions/img_1061.tif\n",
      "Regularization: 100%|█████████████████████████████| 7/7 [00:01<00:00,  5.07it/s]\n",
      "/data/private/BPN_AI/mvt-ekstraksi-bangunan/dataset/img_tiles/img_1062.png /data/private/BPN_AI/mvt-ekstraksi-bangunan/predictions/img_1062.tif\n",
      "Regularization: 100%|█████████████████████████████| 6/6 [00:00<00:00,  6.12it/s]\n",
      "/data/private/BPN_AI/mvt-ekstraksi-bangunan/dataset/img_tiles/img_1063.png /data/private/BPN_AI/mvt-ekstraksi-bangunan/predictions/img_1063.tif\n",
      "Regularization: 100%|███████████████████████████| 19/19 [00:02<00:00,  7.23it/s]\n",
      "/data/private/BPN_AI/mvt-ekstraksi-bangunan/dataset/img_tiles/img_1064.png /data/private/BPN_AI/mvt-ekstraksi-bangunan/predictions/img_1064.tif\n",
      "Regularization: 100%|███████████████████████████| 10/10 [00:01<00:00,  6.90it/s]\n",
      "/data/private/BPN_AI/mvt-ekstraksi-bangunan/dataset/img_tiles/img_1065.png /data/private/BPN_AI/mvt-ekstraksi-bangunan/predictions/img_1065.tif\n",
      "Regularization: 0it [00:00, ?it/s]\n",
      "/data/private/BPN_AI/mvt-ekstraksi-bangunan/projectRegularization/regularize.py:260: UserWarning: /data/private/BPN_AI/mvt-ekstraksi-bangunan/regularizations/img_1065.tif is a low contrast image\n",
      "  io.imsave(output_file, np.uint8(R*255))\n",
      "/data/private/BPN_AI/mvt-ekstraksi-bangunan/dataset/img_tiles/img_1066.png /data/private/BPN_AI/mvt-ekstraksi-bangunan/predictions/img_1066.tif\n",
      "Regularization: 100%|█████████████████████████████| 6/6 [00:01<00:00,  4.30it/s]\n",
      "/data/private/BPN_AI/mvt-ekstraksi-bangunan/dataset/img_tiles/img_1067.png /data/private/BPN_AI/mvt-ekstraksi-bangunan/predictions/img_1067.tif\n",
      "Regularization: 100%|███████████████████████████| 10/10 [00:01<00:00,  8.42it/s]\n",
      "/data/private/BPN_AI/mvt-ekstraksi-bangunan/dataset/img_tiles/img_1068.png /data/private/BPN_AI/mvt-ekstraksi-bangunan/predictions/img_1068.tif\n",
      "Regularization: 100%|█████████████████████████████| 8/8 [00:01<00:00,  7.25it/s]\n",
      "/data/private/BPN_AI/mvt-ekstraksi-bangunan/dataset/img_tiles/img_1069.png /data/private/BPN_AI/mvt-ekstraksi-bangunan/predictions/img_1069.tif\n",
      "Regularization: 100%|███████████████████████████| 17/17 [00:02<00:00,  7.53it/s]\n",
      "/data/private/BPN_AI/mvt-ekstraksi-bangunan/dataset/img_tiles/img_1070.png /data/private/BPN_AI/mvt-ekstraksi-bangunan/predictions/img_1070.tif\n",
      "Regularization: 100%|█████████████████████████████| 4/4 [00:01<00:00,  2.96it/s]\n",
      "/data/private/BPN_AI/mvt-ekstraksi-bangunan/dataset/img_tiles/img_1071.png /data/private/BPN_AI/mvt-ekstraksi-bangunan/predictions/img_1071.tif\n",
      "Regularization: 100%|█████████████████████████████| 7/7 [00:01<00:00,  4.40it/s]\n",
      "/data/private/BPN_AI/mvt-ekstraksi-bangunan/dataset/img_tiles/img_1072.png /data/private/BPN_AI/mvt-ekstraksi-bangunan/predictions/img_1072.tif\n",
      "Regularization: 100%|███████████████████████████| 22/22 [00:02<00:00,  7.65it/s]\n",
      "/data/private/BPN_AI/mvt-ekstraksi-bangunan/dataset/img_tiles/img_1073.png /data/private/BPN_AI/mvt-ekstraksi-bangunan/predictions/img_1073.tif\n",
      "Regularization: 100%|███████████████████████████| 10/10 [00:01<00:00,  6.18it/s]\n",
      "/data/private/BPN_AI/mvt-ekstraksi-bangunan/dataset/img_tiles/img_1074.png /data/private/BPN_AI/mvt-ekstraksi-bangunan/predictions/img_1074.tif\n",
      "Regularization: 100%|█████████████████████████████| 8/8 [00:01<00:00,  6.48it/s]\n",
      "/data/private/BPN_AI/mvt-ekstraksi-bangunan/dataset/img_tiles/img_1075.png /data/private/BPN_AI/mvt-ekstraksi-bangunan/predictions/img_1075.tif\n",
      "Regularization: 100%|█████████████████████████████| 3/3 [00:00<00:00,  3.92it/s]\n",
      "/data/private/BPN_AI/mvt-ekstraksi-bangunan/dataset/img_tiles/img_1076.png /data/private/BPN_AI/mvt-ekstraksi-bangunan/predictions/img_1076.tif\n",
      "Regularization: 100%|█████████████████████████████| 1/1 [00:00<00:00,  7.46it/s]\n",
      "/data/private/BPN_AI/mvt-ekstraksi-bangunan/dataset/img_tiles/img_1077.png /data/private/BPN_AI/mvt-ekstraksi-bangunan/predictions/img_1077.tif\n",
      "Regularization: 100%|█████████████████████████████| 4/4 [00:00<00:00,  5.18it/s]\n",
      "/data/private/BPN_AI/mvt-ekstraksi-bangunan/dataset/img_tiles/img_1078.png /data/private/BPN_AI/mvt-ekstraksi-bangunan/predictions/img_1078.tif\n",
      "Regularization: 100%|█████████████████████████████| 1/1 [00:00<00:00,  7.56it/s]\n",
      "/data/private/BPN_AI/mvt-ekstraksi-bangunan/projectRegularization/regularize.py:260: UserWarning: /data/private/BPN_AI/mvt-ekstraksi-bangunan/regularizations/img_1078.tif is a low contrast image\n",
      "  io.imsave(output_file, np.uint8(R*255))\n",
      "/data/private/BPN_AI/mvt-ekstraksi-bangunan/dataset/img_tiles/img_1079.png /data/private/BPN_AI/mvt-ekstraksi-bangunan/predictions/img_1079.tif\n",
      "Regularization: 100%|█████████████████████████████| 2/2 [00:00<00:00,  6.56it/s]\n",
      "/data/private/BPN_AI/mvt-ekstraksi-bangunan/dataset/img_tiles/img_1080.png /data/private/BPN_AI/mvt-ekstraksi-bangunan/predictions/img_1080.tif\n",
      "Regularization: 100%|███████████████████████████| 11/11 [00:01<00:00,  8.26it/s]\n",
      "/data/private/BPN_AI/mvt-ekstraksi-bangunan/dataset/img_tiles/img_1081.png /data/private/BPN_AI/mvt-ekstraksi-bangunan/predictions/img_1081.tif\n",
      "Regularization: 100%|█████████████████████████████| 8/8 [00:00<00:00,  9.02it/s]\n",
      "/data/private/BPN_AI/mvt-ekstraksi-bangunan/dataset/img_tiles/img_1082.png /data/private/BPN_AI/mvt-ekstraksi-bangunan/predictions/img_1082.tif\n",
      "Regularization: 100%|█████████████████████████████| 4/4 [00:00<00:00,  7.13it/s]\n",
      "/data/private/BPN_AI/mvt-ekstraksi-bangunan/dataset/img_tiles/img_1083.png /data/private/BPN_AI/mvt-ekstraksi-bangunan/predictions/img_1083.tif\n",
      "Regularization: 100%|█████████████████████████████| 7/7 [00:00<00:00,  8.87it/s]\n",
      "/data/private/BPN_AI/mvt-ekstraksi-bangunan/dataset/img_tiles/img_1084.png /data/private/BPN_AI/mvt-ekstraksi-bangunan/predictions/img_1084.tif\n",
      "Regularization: 100%|███████████████████████████| 10/10 [00:01<00:00,  7.60it/s]\n",
      "/data/private/BPN_AI/mvt-ekstraksi-bangunan/dataset/img_tiles/img_1085.png /data/private/BPN_AI/mvt-ekstraksi-bangunan/predictions/img_1085.tif\n",
      "Regularization: 100%|█████████████████████████████| 8/8 [00:00<00:00,  9.79it/s]\n",
      "/data/private/BPN_AI/mvt-ekstraksi-bangunan/dataset/img_tiles/img_1086.png /data/private/BPN_AI/mvt-ekstraksi-bangunan/predictions/img_1086.tif\n",
      "Regularization: 100%|█████████████████████████████| 2/2 [00:00<00:00,  5.04it/s]\n",
      "/data/private/BPN_AI/mvt-ekstraksi-bangunan/dataset/img_tiles/img_1087.png /data/private/BPN_AI/mvt-ekstraksi-bangunan/predictions/img_1087.tif\n",
      "Regularization: 100%|█████████████████████████████| 2/2 [00:00<00:00,  5.33it/s]\n"
     ]
    }
   ],
   "source": [
    "!python /data/private/BPN_AI/mvt-ekstraksi-bangunan/projectRegularization/regularize.py"
   ]
  },
  {
   "cell_type": "code",
   "execution_count": 13,
   "metadata": {},
   "outputs": [
    {
     "name": "stdout",
     "output_type": "stream",
     "text": [
      "Jumlah predicted images:  88\n",
      "Jumlah regularized images:  88\n"
     ]
    }
   ],
   "source": [
    "# Read Regularizations to plot and compare results\n",
    "\n",
    "regularizations = glob.glob(REGULARIZATION_DIR + \"*.tif\")\n",
    "regularizations.sort()\n",
    "\n",
    "print(\"Jumlah predicted images: \", len(predictions))\n",
    "print(\"Jumlah regularized images: \", len(regularizations))"
   ]
  },
  {
   "cell_type": "markdown",
   "metadata": {},
   "source": [
    "Code to plot RGB, GT, PREDICTION and REGULARIZATION in a single plot for comparison.\n",
    "\n",
    "Change parameter n accordingly."
   ]
  },
  {
   "cell_type": "code",
   "execution_count": 14,
   "metadata": {},
   "outputs": [],
   "source": [
    "# n = 10\n",
    "\n",
    "# fig = plt.figure(figsize=(18,12))\n",
    "# ax1 = fig.add_subplot(141)\n",
    "\n",
    "# ax1.set_title('RGB: ')\n",
    "# image = cv2.imread(test_images[n])[:,:,::-1]\n",
    "# ax1.imshow(image)\n",
    "# ax1.set_axis_off()\n",
    "\n",
    "# ax2 = fig.add_subplot(142)\n",
    "# ax2.set_title('Ground truth: ')\n",
    "# image = cv2.imread(test_masks[n])[:,:,::-1]\n",
    "# #image *= 255\n",
    "# ax2.imshow(image)\n",
    "# ax2.set_axis_off()\n",
    "\n",
    "# ax3 = fig.add_subplot(143)\n",
    "# ax3.set_title('Prediction: ')\n",
    "# image = cv2.imread(predictions[n])[:,:,::-1]\n",
    "# ax3.imshow(image)\n",
    "# ax3.set_axis_off()\n",
    "\n",
    "# ax4 = fig.add_subplot(144)\n",
    "# ax4.set_title('Regularization: ')\n",
    "# image = cv2.imread(regularizations[n])[:,:,::-1]\n",
    "# ax4.imshow(image)\n",
    "# ax4.set_axis_off()\n",
    "\n",
    "# # DEFINE PATH FOR PLOTS TO BE SAVED\n",
    "# figPath = GD_PATH + \"/\" + \"plots\" + \"/\" \"compare-\" + str(n) + \".png\"\n",
    "# print(figPath)\n",
    "\n",
    "# # # Save plot\n",
    "# # fig.savefig(figPath)"
   ]
  },
  {
   "cell_type": "markdown",
   "metadata": {
    "tags": []
   },
   "source": [
    "### Combine patches into one full prediction image"
   ]
  },
  {
   "cell_type": "code",
   "execution_count": 15,
   "metadata": {},
   "outputs": [],
   "source": [
    "import cv2\n",
    "\n",
    "original_image = cv2.imread(full_img_dir)\n",
    "\n",
    "height_ori, width_ori, channels = original_image.shape\n",
    "\n",
    "result_height = height_ori + (patch_size - (height_ori-(patch_size*int(height_ori/patch_size))))\n",
    "result_width = width_ori + (patch_size - (width_ori-(patch_size*int(width_ori/patch_size))))\n",
    "\n",
    "# print(width_ori)\n",
    "# print(height_ori)\n",
    "# print(result_width)\n",
    "# print(result_height)"
   ]
  },
  {
   "cell_type": "code",
   "execution_count": 16,
   "metadata": {},
   "outputs": [],
   "source": [
    "from PIL import Image\n",
    "\n",
    "# Create a blank result image with the specified dimensions\n",
    "result_image = Image.new(\"I\", (result_width, result_height))\n",
    "\n",
    "# List the image files in the folder and sort them numerically\n",
    "image_files = sorted(list(paths.list_images(REGULARIZATION_DIR)))\n",
    "\n",
    "# Initialize coordinates for pasting images in the result image\n",
    "x, y = 0, 0\n",
    "\n",
    "# Iterate through the image files and paste them into the result image\n",
    "for image_file in image_files:\n",
    "    image = Image.open(image_file)\n",
    "    \n",
    "    # Resize the image to fit within the specified dimensions\n",
    "    image.thumbnail((result_width, result_height))\n",
    "    \n",
    "    # Paste the resized image into the result image at the current position\n",
    "    result_image.paste(image, (x, y))\n",
    "    \n",
    "    # Update the x-coordinate for the next image\n",
    "    x += image.width\n",
    "    \n",
    "    # If the x-coordinate exceeds the result_width, reset it and move to the next row\n",
    "    if x >= result_width:\n",
    "        x = 0\n",
    "        y += image.height\n",
    "\n",
    "# Save the resulting single image\n",
    "result_image.save(full_pred_dir)"
   ]
  },
  {
   "cell_type": "markdown",
   "metadata": {
    "tags": []
   },
   "source": [
    "#### Set Geotransform"
   ]
  },
  {
   "cell_type": "code",
   "execution_count": 17,
   "metadata": {},
   "outputs": [],
   "source": [
    "from osgeo import gdal\n",
    "\n",
    "# Open the source raster dataset\n",
    "src_dataset = gdal.Open(full_img_dir, gdal.GA_ReadOnly)\n",
    "\n",
    "# Get the geotransform from the source dataset\n",
    "geotransform = src_dataset.GetGeoTransform()\n",
    "\n",
    "# Close the source dataset\n",
    "src_dataset = None\n",
    "\n",
    "# Open a new or existing target raster dataset\n",
    "# Replace 'target.tif' with the path to your target dataset\n",
    "dst_dataset = gdal.Open(full_pred_dir, gdal.GA_Update)\n",
    "\n",
    "# Set the geotransform for the target dataset\n",
    "dst_dataset.SetGeoTransform(geotransform)\n",
    "\n",
    "# Close the target dataset to save changes\n",
    "dst_dataset = None"
   ]
  }
 ],
 "metadata": {
  "accelerator": "TPU",
  "colab": {
   "provenance": []
  },
  "gpuClass": "premium",
  "kernelspec": {
   "display_name": "Python 3 (ipykernel)",
   "language": "python",
   "name": "python3"
  },
  "language_info": {
   "codemirror_mode": {
    "name": "ipython",
    "version": 3
   },
   "file_extension": ".py",
   "mimetype": "text/x-python",
   "name": "python",
   "nbconvert_exporter": "python",
   "pygments_lexer": "ipython3",
   "version": "3.10.0"
  },
  "vscode": {
   "interpreter": {
    "hash": "5614dd747bc595cf94d4c937a609d8df6c75b545807dd5ca7f02df8b67f4ea7c"
   }
  }
 },
 "nbformat": 4,
 "nbformat_minor": 4
}
